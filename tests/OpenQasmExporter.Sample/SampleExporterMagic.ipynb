{
 "cells": [
  {
   "cell_type": "code",
   "execution_count": 1,
   "metadata": {},
   "outputs": [
    {
     "data": {
      "application/json": "{\"LastUpdated\":\"2020-07-31T17:24:58.6543426-07:00\",\"IsCompleted\":true,\"Description\":\"Adding package QsharpCommunity.Simulators.OpenQasmExporter::1.0.0\",\"Subtask\":\"done\"}",
      "text/plain": [
       "Adding package QsharpCommunity.Simulators.OpenQasmExporter::1.0.0: done!"
      ]
     },
     "metadata": {},
     "output_type": "display_data"
    },
    {
     "data": {
      "application/json": "[\"Microsoft.Quantum.Standard::0.12.20072031\",\"QsharpCommunity.Simulators.OpenQasmExporter::1.0.0\"]",
      "text/html": [
       "<ul><li>Microsoft.Quantum.Standard::0.12.20072031</li><li>QsharpCommunity.Simulators.OpenQasmExporter::1.0.0</li></ul>"
      ],
      "text/plain": [
       "Microsoft.Quantum.Standard::0.12.20072031, QsharpCommunity.Simulators.OpenQasmExporter::1.0.0"
      ]
     },
     "execution_count": 1,
     "metadata": {},
     "output_type": "execute_result"
    }
   ],
   "source": [
    "%package QsharpCommunity.Simulators.OpenQasmExporter::1.0.0"
   ]
  },
  {
   "cell_type": "code",
   "execution_count": 2,
   "metadata": {},
   "outputs": [
    {
     "data": {
      "application/json": "[]",
      "text/html": [
       "<ul></ul>"
      ],
      "text/plain": []
     },
     "execution_count": 2,
     "metadata": {},
     "output_type": "execute_result"
    }
   ],
   "source": [
    "open Microsoft.Quantum.Measurement;"
   ]
  },
  {
   "cell_type": "code",
   "execution_count": 3,
   "metadata": {},
   "outputs": [
    {
     "data": {
      "application/json": "[\"foo\"]",
      "text/html": [
       "<ul><li>foo</li></ul>"
      ],
      "text/plain": [
       "foo"
      ]
     },
     "execution_count": 3,
     "metadata": {},
     "output_type": "execute_result"
    }
   ],
   "source": [
    "operation foo() : Result {\n",
    "    using (register = Qubit[4]) {\n",
    "        H(register[2]); //|+>\n",
    "        S(register[2]); //|i>\n",
    "        S(register[2]); //|->\n",
    "        H(register[2]); //|1>\n",
    "        return MResetZ(register[2]);\n",
    "    }\n",
    "} "
   ]
  },
  {
   "cell_type": "code",
   "execution_count": 4,
   "metadata": {},
   "outputs": [
    {
     "data": {
      "application/json": "1",
      "text/plain": [
       "One"
      ]
     },
     "execution_count": 4,
     "metadata": {},
     "output_type": "execute_result"
    }
   ],
   "source": [
    "%simulate foo"
   ]
  },
  {
   "cell_type": "code",
   "execution_count": 5,
   "metadata": {},
   "outputs": [
    {
     "data": {
      "application/json": "\"// Exporting to foo.qasm (use %config qasmexport.outputFileName to change)\"",
      "text/plain": [
       "// Exporting to foo.qasm (use %config qasmexport.outputFileName to change)"
      ]
     },
     "metadata": {},
     "output_type": "display_data"
    },
    {
     "name": "stdout",
     "output_type": "stream",
     "text": [
      "OPENQASM 2.0;\n",
      "include \"qelib1.inc\";\n",
      "qreg q[32];\n",
      "creg c[32];\n",
      "h q[2];\n",
      "s q[2];\n",
      "s q[2];\n",
      "h q[2];\n",
      "measure q[2] -> c[2];\n"
     ]
    },
    {
     "data": {
      "application/json": "0",
      "text/plain": [
       "Zero"
      ]
     },
     "execution_count": 5,
     "metadata": {},
     "output_type": "execute_result"
    }
   ],
   "source": [
    "%qasmexport foo"
   ]
  },
  {
   "cell_type": "code",
   "execution_count": 6,
   "metadata": {},
   "outputs": [
    {
     "data": {
      "application/json": "\"\\\"bar.qasm\\\"\"",
      "text/plain": [
       "\"bar.qasm\""
      ]
     },
     "execution_count": 6,
     "metadata": {},
     "output_type": "execute_result"
    }
   ],
   "source": [
    "%config qasmexport.outputFileName = \"bar.qasm\""
   ]
  },
  {
   "cell_type": "code",
   "execution_count": 7,
   "metadata": {},
   "outputs": [
    {
     "data": {
      "application/json": "{\"rows\":[{\"Key\":\"qasmexport.outputFileName\",\"Value\":\"bar.qasm\"}]}",
      "text/html": [
       "<table><thead><tr><th style=\"text-align: start;\">Configuration key</th><th style=\"text-align: start;\">Value</th></tr></thead><tbody><tr><td style=\"text-align: start;\">qasmexport.outputFileName</td><td style=\"text-align: start;\">\"bar.qasm\"</td></tr></tbody></table>"
      ],
      "text/plain": [
       "Configuration key         Value\r\n",
       "------------------------- ----------\r\n",
       "qasmexport.outputFileName \"bar.qasm\"\r\n"
      ]
     },
     "execution_count": 7,
     "metadata": {},
     "output_type": "execute_result"
    }
   ],
   "source": [
    "%config"
   ]
  },
  {
   "cell_type": "code",
   "execution_count": 8,
   "metadata": {},
   "outputs": [
    {
     "data": {
      "application/json": "\"// Exporting to bar.qasm (use %config qasmexport.outputFileName to change)\"",
      "text/plain": [
       "// Exporting to bar.qasm (use %config qasmexport.outputFileName to change)"
      ]
     },
     "metadata": {},
     "output_type": "display_data"
    },
    {
     "name": "stdout",
     "output_type": "stream",
     "text": [
      "OPENQASM 2.0;\n",
      "include \"qelib1.inc\";\n",
      "qreg q[32];\n",
      "creg c[32];\n",
      "h q[2];\n",
      "s q[2];\n",
      "s q[2];\n",
      "h q[2];\n",
      "measure q[2] -> c[2];\n"
     ]
    },
    {
     "data": {
      "application/json": "0",
      "text/plain": [
       "Zero"
      ]
     },
     "execution_count": 8,
     "metadata": {},
     "output_type": "execute_result"
    }
   ],
   "source": [
    "%qasmexport foo"
   ]
  },
  {
   "cell_type": "code",
   "execution_count": null,
   "metadata": {},
   "outputs": [],
   "source": []
  }
 ],
 "metadata": {
  "kernelspec": {
   "display_name": "Q#",
   "language": "qsharp",
   "name": "iqsharp"
  },
  "language_info": {
   "file_extension": ".qs",
   "mimetype": "text/x-qsharp",
   "name": "qsharp",
   "version": "0.12"
  }
 },
 "nbformat": 4,
 "nbformat_minor": 4
}
